{
 "cells": [
  {
   "cell_type": "markdown",
   "id": "2f046bd3",
   "metadata": {},
   "source": [
    "# Indexing "
   ]
  },
  {
   "cell_type": "code",
   "execution_count": 39,
   "id": "cb5405e7",
   "metadata": {},
   "outputs": [],
   "source": [
    "import pandas as pd"
   ]
  },
  {
   "cell_type": "code",
   "execution_count": 40,
   "id": "64f99e7f",
   "metadata": {},
   "outputs": [],
   "source": [
    "people={\n",
    "    \"first\":['jon','cersei','arya'],\n",
    "    \"last\":[\"snow\",\"lannister\",'stark'],\n",
    "    \"place\":['winterfell','kings landing','bravos']\n",
    "}"
   ]
  },
  {
   "cell_type": "code",
   "execution_count": 41,
   "id": "0e2aec6a",
   "metadata": {},
   "outputs": [],
   "source": [
    "df=pd.DataFrame(people)"
   ]
  },
  {
   "cell_type": "code",
   "execution_count": 42,
   "id": "f2d935b8",
   "metadata": {},
   "outputs": [
    {
     "data": {
      "text/plain": [
       "Index(['first', 'last', 'place'], dtype='object')"
      ]
     },
     "execution_count": 42,
     "metadata": {},
     "output_type": "execute_result"
    }
   ],
   "source": [
    "df.columns"
   ]
  },
  {
   "cell_type": "code",
   "execution_count": 43,
   "id": "d2c1c9b3",
   "metadata": {},
   "outputs": [
    {
     "data": {
      "text/plain": [
       "RangeIndex(start=0, stop=3, step=1)"
      ]
     },
     "execution_count": 43,
     "metadata": {},
     "output_type": "execute_result"
    }
   ],
   "source": [
    "df.index"
   ]
  },
  {
   "cell_type": "code",
   "execution_count": 44,
   "id": "2d84ca9a",
   "metadata": {},
   "outputs": [
    {
     "data": {
      "text/html": [
       "<div>\n",
       "<style scoped>\n",
       "    .dataframe tbody tr th:only-of-type {\n",
       "        vertical-align: middle;\n",
       "    }\n",
       "\n",
       "    .dataframe tbody tr th {\n",
       "        vertical-align: top;\n",
       "    }\n",
       "\n",
       "    .dataframe thead th {\n",
       "        text-align: right;\n",
       "    }\n",
       "</style>\n",
       "<table border=\"1\" class=\"dataframe\">\n",
       "  <thead>\n",
       "    <tr style=\"text-align: right;\">\n",
       "      <th></th>\n",
       "      <th>first</th>\n",
       "      <th>place</th>\n",
       "    </tr>\n",
       "    <tr>\n",
       "      <th>last</th>\n",
       "      <th></th>\n",
       "      <th></th>\n",
       "    </tr>\n",
       "  </thead>\n",
       "  <tbody>\n",
       "    <tr>\n",
       "      <th>snow</th>\n",
       "      <td>jon</td>\n",
       "      <td>winterfell</td>\n",
       "    </tr>\n",
       "    <tr>\n",
       "      <th>lannister</th>\n",
       "      <td>cersei</td>\n",
       "      <td>kings landing</td>\n",
       "    </tr>\n",
       "    <tr>\n",
       "      <th>stark</th>\n",
       "      <td>arya</td>\n",
       "      <td>bravos</td>\n",
       "    </tr>\n",
       "  </tbody>\n",
       "</table>\n",
       "</div>"
      ],
      "text/plain": [
       "            first          place\n",
       "last                            \n",
       "snow          jon     winterfell\n",
       "lannister  cersei  kings landing\n",
       "stark        arya         bravos"
      ]
     },
     "execution_count": 44,
     "metadata": {},
     "output_type": "execute_result"
    }
   ],
   "source": [
    "df.set_index('last')"
   ]
  },
  {
   "cell_type": "code",
   "execution_count": 45,
   "id": "0f8b4d35",
   "metadata": {
    "scrolled": true
   },
   "outputs": [
    {
     "data": {
      "text/html": [
       "<div>\n",
       "<style scoped>\n",
       "    .dataframe tbody tr th:only-of-type {\n",
       "        vertical-align: middle;\n",
       "    }\n",
       "\n",
       "    .dataframe tbody tr th {\n",
       "        vertical-align: top;\n",
       "    }\n",
       "\n",
       "    .dataframe thead th {\n",
       "        text-align: right;\n",
       "    }\n",
       "</style>\n",
       "<table border=\"1\" class=\"dataframe\">\n",
       "  <thead>\n",
       "    <tr style=\"text-align: right;\">\n",
       "      <th></th>\n",
       "      <th>first</th>\n",
       "      <th>last</th>\n",
       "      <th>place</th>\n",
       "    </tr>\n",
       "  </thead>\n",
       "  <tbody>\n",
       "    <tr>\n",
       "      <th>0</th>\n",
       "      <td>jon</td>\n",
       "      <td>snow</td>\n",
       "      <td>winterfell</td>\n",
       "    </tr>\n",
       "    <tr>\n",
       "      <th>1</th>\n",
       "      <td>cersei</td>\n",
       "      <td>lannister</td>\n",
       "      <td>kings landing</td>\n",
       "    </tr>\n",
       "    <tr>\n",
       "      <th>2</th>\n",
       "      <td>arya</td>\n",
       "      <td>stark</td>\n",
       "      <td>bravos</td>\n",
       "    </tr>\n",
       "  </tbody>\n",
       "</table>\n",
       "</div>"
      ],
      "text/plain": [
       "    first       last          place\n",
       "0     jon       snow     winterfell\n",
       "1  cersei  lannister  kings landing\n",
       "2    arya      stark         bravos"
      ]
     },
     "execution_count": 45,
     "metadata": {},
     "output_type": "execute_result"
    }
   ],
   "source": [
    "df\n"
   ]
  },
  {
   "cell_type": "code",
   "execution_count": 46,
   "id": "bf8c3118",
   "metadata": {},
   "outputs": [
    {
     "data": {
      "text/plain": [
       "RangeIndex(start=0, stop=3, step=1)"
      ]
     },
     "execution_count": 46,
     "metadata": {},
     "output_type": "execute_result"
    }
   ],
   "source": [
    "df.index"
   ]
  },
  {
   "cell_type": "code",
   "execution_count": 47,
   "id": "c9587d5c",
   "metadata": {
    "scrolled": true
   },
   "outputs": [],
   "source": [
    "df.set_index('last',inplace=True)"
   ]
  },
  {
   "cell_type": "code",
   "execution_count": 48,
   "id": "3940cb8b",
   "metadata": {},
   "outputs": [
    {
     "data": {
      "text/plain": [
       "Index(['snow', 'lannister', 'stark'], dtype='object', name='last')"
      ]
     },
     "execution_count": 48,
     "metadata": {},
     "output_type": "execute_result"
    }
   ],
   "source": [
    "df.index"
   ]
  },
  {
   "cell_type": "code",
   "execution_count": 49,
   "id": "568842c6",
   "metadata": {
    "scrolled": true
   },
   "outputs": [
    {
     "data": {
      "text/html": [
       "<div>\n",
       "<style scoped>\n",
       "    .dataframe tbody tr th:only-of-type {\n",
       "        vertical-align: middle;\n",
       "    }\n",
       "\n",
       "    .dataframe tbody tr th {\n",
       "        vertical-align: top;\n",
       "    }\n",
       "\n",
       "    .dataframe thead th {\n",
       "        text-align: right;\n",
       "    }\n",
       "</style>\n",
       "<table border=\"1\" class=\"dataframe\">\n",
       "  <thead>\n",
       "    <tr style=\"text-align: right;\">\n",
       "      <th></th>\n",
       "      <th>first</th>\n",
       "      <th>place</th>\n",
       "    </tr>\n",
       "    <tr>\n",
       "      <th>last</th>\n",
       "      <th></th>\n",
       "      <th></th>\n",
       "    </tr>\n",
       "  </thead>\n",
       "  <tbody>\n",
       "    <tr>\n",
       "      <th>lannister</th>\n",
       "      <td>cersei</td>\n",
       "      <td>kings landing</td>\n",
       "    </tr>\n",
       "    <tr>\n",
       "      <th>snow</th>\n",
       "      <td>jon</td>\n",
       "      <td>winterfell</td>\n",
       "    </tr>\n",
       "    <tr>\n",
       "      <th>stark</th>\n",
       "      <td>arya</td>\n",
       "      <td>bravos</td>\n",
       "    </tr>\n",
       "  </tbody>\n",
       "</table>\n",
       "</div>"
      ],
      "text/plain": [
       "            first          place\n",
       "last                            \n",
       "lannister  cersei  kings landing\n",
       "snow          jon     winterfell\n",
       "stark        arya         bravos"
      ]
     },
     "execution_count": 49,
     "metadata": {},
     "output_type": "execute_result"
    }
   ],
   "source": [
    "df.sort_index()"
   ]
  },
  {
   "cell_type": "markdown",
   "id": "41752245",
   "metadata": {},
   "source": [
    "\n",
    "# Filtering Data"
   ]
  },
  {
   "cell_type": "code",
   "execution_count": 50,
   "id": "032c8344",
   "metadata": {},
   "outputs": [],
   "source": [
    "office={\n",
    "       \"first\": [\"Michael\", \"Jim\", \"Pam\", \"Dwight\", \"Ryan\",\n",
    "              \"Stanley\", \"Kevin\", \"Angela\", \"Kelly\", \"Creed\"],\n",
    "    \"last\": [\"Scott\", \"Halpert\", \"Beesly\", \"Schrute\", \"Howard\",\n",
    "             \"Hudson\", \"Malone\", \"Martin\", \"Kapoor\", \"Bratton\"],\n",
    "    \"email\": [\n",
    "        \"michael.scott@dundermifflin.com\",\n",
    "        \"jim.halpert@dundermifflin.com\",\n",
    "        \"pam.beesly@dundermifflin.com\",\n",
    "        \"dwight.schrute@dundermifflin.com\",\n",
    "        \"ryan.howard@dundermifflin.com\",\n",
    "        \"stanley.hudson@dundermifflin.com\",\n",
    "        \"kevin.malone@dundermifflin.com\",\n",
    "        \"angela.martin@dundermifflin.com\",\n",
    "        \"kelly.kapoor@dundermifflin.com\",\n",
    "        \"creed.bratton@dundermifflin.com\"\n",
    "    ],\n",
    "    \"phone\": [\n",
    "        \"555-123-4567\", \"555-234-5678\", \"555-345-6789\", \"555-456-7890\", \n",
    "        \"555-567-8901\", \"555-678-9012\", \"555-789-0123\", \"555-890-1234\", \n",
    "        \"555-901-2345\", \"555-012-3456\"\n",
    "    ],\n",
    "    \"salary\": [\n",
    "        75000, 65000, 45000, 60000, 55000,\n",
    "        70000, 40000, 48000, 50000, 38000\n",
    "    ],\n",
    "    \"area\": [\n",
    "        \"Scranton\", \"Pensilvenya\", \"Paris\", \"Schrute Farms\", \"New York\",\n",
    "        \"Electricity\", \"Scranton\", \"Scranton\", \"Scranton\", \"Unknown\"\n",
    "    ]\n",
    "}"
   ]
  },
  {
   "cell_type": "code",
   "execution_count": 51,
   "id": "31cb006e",
   "metadata": {},
   "outputs": [],
   "source": [
    "dmf=pd.DataFrame(office)"
   ]
  },
  {
   "cell_type": "code",
   "execution_count": 52,
   "id": "c4e971ec",
   "metadata": {
    "scrolled": true
   },
   "outputs": [
    {
     "data": {
      "text/html": [
       "<div>\n",
       "<style scoped>\n",
       "    .dataframe tbody tr th:only-of-type {\n",
       "        vertical-align: middle;\n",
       "    }\n",
       "\n",
       "    .dataframe tbody tr th {\n",
       "        vertical-align: top;\n",
       "    }\n",
       "\n",
       "    .dataframe thead th {\n",
       "        text-align: right;\n",
       "    }\n",
       "</style>\n",
       "<table border=\"1\" class=\"dataframe\">\n",
       "  <thead>\n",
       "    <tr style=\"text-align: right;\">\n",
       "      <th></th>\n",
       "      <th>first</th>\n",
       "      <th>last</th>\n",
       "      <th>email</th>\n",
       "      <th>phone</th>\n",
       "      <th>salary</th>\n",
       "      <th>area</th>\n",
       "    </tr>\n",
       "  </thead>\n",
       "  <tbody>\n",
       "    <tr>\n",
       "      <th>0</th>\n",
       "      <td>Michael</td>\n",
       "      <td>Scott</td>\n",
       "      <td>michael.scott@dundermifflin.com</td>\n",
       "      <td>555-123-4567</td>\n",
       "      <td>75000</td>\n",
       "      <td>Scranton</td>\n",
       "    </tr>\n",
       "    <tr>\n",
       "      <th>1</th>\n",
       "      <td>Jim</td>\n",
       "      <td>Halpert</td>\n",
       "      <td>jim.halpert@dundermifflin.com</td>\n",
       "      <td>555-234-5678</td>\n",
       "      <td>65000</td>\n",
       "      <td>Pensilvenya</td>\n",
       "    </tr>\n",
       "    <tr>\n",
       "      <th>2</th>\n",
       "      <td>Pam</td>\n",
       "      <td>Beesly</td>\n",
       "      <td>pam.beesly@dundermifflin.com</td>\n",
       "      <td>555-345-6789</td>\n",
       "      <td>45000</td>\n",
       "      <td>Paris</td>\n",
       "    </tr>\n",
       "    <tr>\n",
       "      <th>3</th>\n",
       "      <td>Dwight</td>\n",
       "      <td>Schrute</td>\n",
       "      <td>dwight.schrute@dundermifflin.com</td>\n",
       "      <td>555-456-7890</td>\n",
       "      <td>60000</td>\n",
       "      <td>Schrute Farms</td>\n",
       "    </tr>\n",
       "    <tr>\n",
       "      <th>4</th>\n",
       "      <td>Ryan</td>\n",
       "      <td>Howard</td>\n",
       "      <td>ryan.howard@dundermifflin.com</td>\n",
       "      <td>555-567-8901</td>\n",
       "      <td>55000</td>\n",
       "      <td>New York</td>\n",
       "    </tr>\n",
       "    <tr>\n",
       "      <th>5</th>\n",
       "      <td>Stanley</td>\n",
       "      <td>Hudson</td>\n",
       "      <td>stanley.hudson@dundermifflin.com</td>\n",
       "      <td>555-678-9012</td>\n",
       "      <td>70000</td>\n",
       "      <td>Electricity</td>\n",
       "    </tr>\n",
       "    <tr>\n",
       "      <th>6</th>\n",
       "      <td>Kevin</td>\n",
       "      <td>Malone</td>\n",
       "      <td>kevin.malone@dundermifflin.com</td>\n",
       "      <td>555-789-0123</td>\n",
       "      <td>40000</td>\n",
       "      <td>Scranton</td>\n",
       "    </tr>\n",
       "    <tr>\n",
       "      <th>7</th>\n",
       "      <td>Angela</td>\n",
       "      <td>Martin</td>\n",
       "      <td>angela.martin@dundermifflin.com</td>\n",
       "      <td>555-890-1234</td>\n",
       "      <td>48000</td>\n",
       "      <td>Scranton</td>\n",
       "    </tr>\n",
       "    <tr>\n",
       "      <th>8</th>\n",
       "      <td>Kelly</td>\n",
       "      <td>Kapoor</td>\n",
       "      <td>kelly.kapoor@dundermifflin.com</td>\n",
       "      <td>555-901-2345</td>\n",
       "      <td>50000</td>\n",
       "      <td>Scranton</td>\n",
       "    </tr>\n",
       "    <tr>\n",
       "      <th>9</th>\n",
       "      <td>Creed</td>\n",
       "      <td>Bratton</td>\n",
       "      <td>creed.bratton@dundermifflin.com</td>\n",
       "      <td>555-012-3456</td>\n",
       "      <td>38000</td>\n",
       "      <td>Unknown</td>\n",
       "    </tr>\n",
       "  </tbody>\n",
       "</table>\n",
       "</div>"
      ],
      "text/plain": [
       "     first     last                             email         phone  salary  \\\n",
       "0  Michael    Scott   michael.scott@dundermifflin.com  555-123-4567   75000   \n",
       "1      Jim  Halpert     jim.halpert@dundermifflin.com  555-234-5678   65000   \n",
       "2      Pam   Beesly      pam.beesly@dundermifflin.com  555-345-6789   45000   \n",
       "3   Dwight  Schrute  dwight.schrute@dundermifflin.com  555-456-7890   60000   \n",
       "4     Ryan   Howard     ryan.howard@dundermifflin.com  555-567-8901   55000   \n",
       "5  Stanley   Hudson  stanley.hudson@dundermifflin.com  555-678-9012   70000   \n",
       "6    Kevin   Malone    kevin.malone@dundermifflin.com  555-789-0123   40000   \n",
       "7   Angela   Martin   angela.martin@dundermifflin.com  555-890-1234   48000   \n",
       "8    Kelly   Kapoor    kelly.kapoor@dundermifflin.com  555-901-2345   50000   \n",
       "9    Creed  Bratton   creed.bratton@dundermifflin.com  555-012-3456   38000   \n",
       "\n",
       "            area  \n",
       "0       Scranton  \n",
       "1    Pensilvenya  \n",
       "2          Paris  \n",
       "3  Schrute Farms  \n",
       "4       New York  \n",
       "5    Electricity  \n",
       "6       Scranton  \n",
       "7       Scranton  \n",
       "8       Scranton  \n",
       "9        Unknown  "
      ]
     },
     "execution_count": 52,
     "metadata": {},
     "output_type": "execute_result"
    }
   ],
   "source": [
    "dmf"
   ]
  },
  {
   "cell_type": "code",
   "execution_count": 53,
   "id": "f8a2a8f0",
   "metadata": {
    "scrolled": true
   },
   "outputs": [],
   "source": [
    "thgf=(dmf['last']=='Scott')"
   ]
  },
  {
   "cell_type": "code",
   "execution_count": 54,
   "id": "150f77ad",
   "metadata": {
    "scrolled": true
   },
   "outputs": [
    {
     "data": {
      "text/html": [
       "<div>\n",
       "<style scoped>\n",
       "    .dataframe tbody tr th:only-of-type {\n",
       "        vertical-align: middle;\n",
       "    }\n",
       "\n",
       "    .dataframe tbody tr th {\n",
       "        vertical-align: top;\n",
       "    }\n",
       "\n",
       "    .dataframe thead th {\n",
       "        text-align: right;\n",
       "    }\n",
       "</style>\n",
       "<table border=\"1\" class=\"dataframe\">\n",
       "  <thead>\n",
       "    <tr style=\"text-align: right;\">\n",
       "      <th></th>\n",
       "      <th>first</th>\n",
       "      <th>last</th>\n",
       "      <th>email</th>\n",
       "      <th>phone</th>\n",
       "      <th>salary</th>\n",
       "      <th>area</th>\n",
       "    </tr>\n",
       "  </thead>\n",
       "  <tbody>\n",
       "    <tr>\n",
       "      <th>0</th>\n",
       "      <td>Michael</td>\n",
       "      <td>Scott</td>\n",
       "      <td>michael.scott@dundermifflin.com</td>\n",
       "      <td>555-123-4567</td>\n",
       "      <td>75000</td>\n",
       "      <td>Scranton</td>\n",
       "    </tr>\n",
       "  </tbody>\n",
       "</table>\n",
       "</div>"
      ],
      "text/plain": [
       "     first   last                            email         phone  salary  \\\n",
       "0  Michael  Scott  michael.scott@dundermifflin.com  555-123-4567   75000   \n",
       "\n",
       "       area  \n",
       "0  Scranton  "
      ]
     },
     "execution_count": 54,
     "metadata": {},
     "output_type": "execute_result"
    }
   ],
   "source": [
    "dmf[thgf]"
   ]
  },
  {
   "cell_type": "code",
   "execution_count": 55,
   "id": "25cd1a17",
   "metadata": {
    "scrolled": true
   },
   "outputs": [
    {
     "data": {
      "text/html": [
       "<div>\n",
       "<style scoped>\n",
       "    .dataframe tbody tr th:only-of-type {\n",
       "        vertical-align: middle;\n",
       "    }\n",
       "\n",
       "    .dataframe tbody tr th {\n",
       "        vertical-align: top;\n",
       "    }\n",
       "\n",
       "    .dataframe thead th {\n",
       "        text-align: right;\n",
       "    }\n",
       "</style>\n",
       "<table border=\"1\" class=\"dataframe\">\n",
       "  <thead>\n",
       "    <tr style=\"text-align: right;\">\n",
       "      <th></th>\n",
       "      <th>first</th>\n",
       "      <th>last</th>\n",
       "      <th>email</th>\n",
       "      <th>phone</th>\n",
       "      <th>salary</th>\n",
       "      <th>area</th>\n",
       "    </tr>\n",
       "  </thead>\n",
       "  <tbody>\n",
       "    <tr>\n",
       "      <th>0</th>\n",
       "      <td>Michael</td>\n",
       "      <td>Scott</td>\n",
       "      <td>michael.scott@dundermifflin.com</td>\n",
       "      <td>555-123-4567</td>\n",
       "      <td>75000</td>\n",
       "      <td>Scranton</td>\n",
       "    </tr>\n",
       "  </tbody>\n",
       "</table>\n",
       "</div>"
      ],
      "text/plain": [
       "     first   last                            email         phone  salary  \\\n",
       "0  Michael  Scott  michael.scott@dundermifflin.com  555-123-4567   75000   \n",
       "\n",
       "       area  \n",
       "0  Scranton  "
      ]
     },
     "execution_count": 55,
     "metadata": {},
     "output_type": "execute_result"
    }
   ],
   "source": [
    "#above two cells can also be executed like this\n",
    "dmf[dmf['last']=='Scott']"
   ]
  },
  {
   "cell_type": "code",
   "execution_count": 56,
   "id": "b1b3faf4",
   "metadata": {},
   "outputs": [
    {
     "data": {
      "text/html": [
       "<div>\n",
       "<style scoped>\n",
       "    .dataframe tbody tr th:only-of-type {\n",
       "        vertical-align: middle;\n",
       "    }\n",
       "\n",
       "    .dataframe tbody tr th {\n",
       "        vertical-align: top;\n",
       "    }\n",
       "\n",
       "    .dataframe thead th {\n",
       "        text-align: right;\n",
       "    }\n",
       "</style>\n",
       "<table border=\"1\" class=\"dataframe\">\n",
       "  <thead>\n",
       "    <tr style=\"text-align: right;\">\n",
       "      <th></th>\n",
       "      <th>first</th>\n",
       "      <th>last</th>\n",
       "      <th>email</th>\n",
       "      <th>phone</th>\n",
       "      <th>salary</th>\n",
       "      <th>area</th>\n",
       "    </tr>\n",
       "  </thead>\n",
       "  <tbody>\n",
       "    <tr>\n",
       "      <th>0</th>\n",
       "      <td>Michael</td>\n",
       "      <td>Scott</td>\n",
       "      <td>michael.scott@dundermifflin.com</td>\n",
       "      <td>555-123-4567</td>\n",
       "      <td>75000</td>\n",
       "      <td>Scranton</td>\n",
       "    </tr>\n",
       "  </tbody>\n",
       "</table>\n",
       "</div>"
      ],
      "text/plain": [
       "     first   last                            email         phone  salary  \\\n",
       "0  Michael  Scott  michael.scott@dundermifflin.com  555-123-4567   75000   \n",
       "\n",
       "       area  \n",
       "0  Scranton  "
      ]
     },
     "execution_count": 56,
     "metadata": {},
     "output_type": "execute_result"
    }
   ],
   "source": [
    "#or like this with .loc we can aslo access speific column\n",
    "dmf.loc[thgf]\n"
   ]
  },
  {
   "cell_type": "code",
   "execution_count": 57,
   "id": "d221a563",
   "metadata": {},
   "outputs": [
    {
     "data": {
      "text/plain": [
       "0    michael.scott@dundermifflin.com\n",
       "Name: email, dtype: object"
      ]
     },
     "execution_count": 57,
     "metadata": {},
     "output_type": "execute_result"
    }
   ],
   "source": [
    "dmf.loc[thgf,'email']"
   ]
  },
  {
   "cell_type": "code",
   "execution_count": 58,
   "id": "81cf5b15",
   "metadata": {},
   "outputs": [],
   "source": [
    "flit=dmf['salary']>50000"
   ]
  },
  {
   "cell_type": "code",
   "execution_count": 59,
   "id": "4a43b5cf",
   "metadata": {},
   "outputs": [
    {
     "data": {
      "text/html": [
       "<div>\n",
       "<style scoped>\n",
       "    .dataframe tbody tr th:only-of-type {\n",
       "        vertical-align: middle;\n",
       "    }\n",
       "\n",
       "    .dataframe tbody tr th {\n",
       "        vertical-align: top;\n",
       "    }\n",
       "\n",
       "    .dataframe thead th {\n",
       "        text-align: right;\n",
       "    }\n",
       "</style>\n",
       "<table border=\"1\" class=\"dataframe\">\n",
       "  <thead>\n",
       "    <tr style=\"text-align: right;\">\n",
       "      <th></th>\n",
       "      <th>first</th>\n",
       "      <th>last</th>\n",
       "      <th>email</th>\n",
       "      <th>phone</th>\n",
       "      <th>salary</th>\n",
       "      <th>area</th>\n",
       "    </tr>\n",
       "  </thead>\n",
       "  <tbody>\n",
       "    <tr>\n",
       "      <th>0</th>\n",
       "      <td>Michael</td>\n",
       "      <td>Scott</td>\n",
       "      <td>michael.scott@dundermifflin.com</td>\n",
       "      <td>555-123-4567</td>\n",
       "      <td>75000</td>\n",
       "      <td>Scranton</td>\n",
       "    </tr>\n",
       "    <tr>\n",
       "      <th>1</th>\n",
       "      <td>Jim</td>\n",
       "      <td>Halpert</td>\n",
       "      <td>jim.halpert@dundermifflin.com</td>\n",
       "      <td>555-234-5678</td>\n",
       "      <td>65000</td>\n",
       "      <td>Pensilvenya</td>\n",
       "    </tr>\n",
       "    <tr>\n",
       "      <th>3</th>\n",
       "      <td>Dwight</td>\n",
       "      <td>Schrute</td>\n",
       "      <td>dwight.schrute@dundermifflin.com</td>\n",
       "      <td>555-456-7890</td>\n",
       "      <td>60000</td>\n",
       "      <td>Schrute Farms</td>\n",
       "    </tr>\n",
       "    <tr>\n",
       "      <th>4</th>\n",
       "      <td>Ryan</td>\n",
       "      <td>Howard</td>\n",
       "      <td>ryan.howard@dundermifflin.com</td>\n",
       "      <td>555-567-8901</td>\n",
       "      <td>55000</td>\n",
       "      <td>New York</td>\n",
       "    </tr>\n",
       "    <tr>\n",
       "      <th>5</th>\n",
       "      <td>Stanley</td>\n",
       "      <td>Hudson</td>\n",
       "      <td>stanley.hudson@dundermifflin.com</td>\n",
       "      <td>555-678-9012</td>\n",
       "      <td>70000</td>\n",
       "      <td>Electricity</td>\n",
       "    </tr>\n",
       "  </tbody>\n",
       "</table>\n",
       "</div>"
      ],
      "text/plain": [
       "     first     last                             email         phone  salary  \\\n",
       "0  Michael    Scott   michael.scott@dundermifflin.com  555-123-4567   75000   \n",
       "1      Jim  Halpert     jim.halpert@dundermifflin.com  555-234-5678   65000   \n",
       "3   Dwight  Schrute  dwight.schrute@dundermifflin.com  555-456-7890   60000   \n",
       "4     Ryan   Howard     ryan.howard@dundermifflin.com  555-567-8901   55000   \n",
       "5  Stanley   Hudson  stanley.hudson@dundermifflin.com  555-678-9012   70000   \n",
       "\n",
       "            area  \n",
       "0       Scranton  \n",
       "1    Pensilvenya  \n",
       "3  Schrute Farms  \n",
       "4       New York  \n",
       "5    Electricity  "
      ]
     },
     "execution_count": 59,
     "metadata": {},
     "output_type": "execute_result"
    }
   ],
   "source": [
    "dmf[flit]"
   ]
  },
  {
   "cell_type": "code",
   "execution_count": 60,
   "id": "08f04284",
   "metadata": {
    "scrolled": true
   },
   "outputs": [
    {
     "data": {
      "text/plain": [
       "0         Scranton\n",
       "1      Pensilvenya\n",
       "3    Schrute Farms\n",
       "4         New York\n",
       "5      Electricity\n",
       "Name: area, dtype: object"
      ]
     },
     "execution_count": 60,
     "metadata": {},
     "output_type": "execute_result"
    }
   ],
   "source": [
    "dmf.loc[flit,'area']"
   ]
  },
  {
   "cell_type": "code",
   "execution_count": 61,
   "id": "e589ba92",
   "metadata": {},
   "outputs": [],
   "source": [
    "areas=['Scranton','New York']"
   ]
  },
  {
   "cell_type": "code",
   "execution_count": 64,
   "id": "c8ec2bbb",
   "metadata": {},
   "outputs": [],
   "source": [
    "arr=dmf['area'].isin(areas)"
   ]
  },
  {
   "cell_type": "code",
   "execution_count": 67,
   "id": "eee6415a",
   "metadata": {
    "scrolled": true
   },
   "outputs": [
    {
     "data": {
      "text/plain": [
       "0    Michael\n",
       "4       Ryan\n",
       "6      Kevin\n",
       "7     Angela\n",
       "8      Kelly\n",
       "Name: first, dtype: object"
      ]
     },
     "execution_count": 67,
     "metadata": {},
     "output_type": "execute_result"
    }
   ],
   "source": [
    "dmf.loc[arr,'first']"
   ]
  },
  {
   "cell_type": "code",
   "execution_count": null,
   "id": "ef591f79",
   "metadata": {},
   "outputs": [],
   "source": [
    "# strf=dmf['column_name'].str.contains('Data_value',na=False)\n",
    "\n",
    "# another type of filter uses string method to check conditionals"
   ]
  }
 ],
 "metadata": {
  "kernelspec": {
   "display_name": "Python 3 (ipykernel)",
   "language": "python",
   "name": "python3"
  },
  "language_info": {
   "codemirror_mode": {
    "name": "ipython",
    "version": 3
   },
   "file_extension": ".py",
   "mimetype": "text/x-python",
   "name": "python",
   "nbconvert_exporter": "python",
   "pygments_lexer": "ipython3",
   "version": "3.12.3"
  }
 },
 "nbformat": 4,
 "nbformat_minor": 5
}
