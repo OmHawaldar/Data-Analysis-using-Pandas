{
 "cells": [
  {
   "cell_type": "code",
   "execution_count": 3,
   "id": "e50f692e",
   "metadata": {},
   "outputs": [],
   "source": [
    "office={\n",
    "       \"first\": [\"Michael\", \"Jim\", \"Pam\", \"Dwight\", \"Ryan\",\n",
    "              \"Stanley\", \"Kevin\", \"Angela\", \"Kelly\", \"Creed\"],\n",
    "    \"last\": [\"Scott\", \"Halpert\", \"Beesly\", \"Schrute\", \"Howard\",\n",
    "             \"Hudson\", \"Malone\", \"Martin\", \"Kapoor\", \"Bratton\"],\n",
    "    \"email\": [\n",
    "        \"michael.scott@dundermifflin.com\",\n",
    "        \"jim.halpert@dundermifflin.com\",\n",
    "        \"pam.beesly@dundermifflin.com\",\n",
    "        \"dwight.schrute@dundermifflin.com\",\n",
    "        \"ryan.howard@dundermifflin.com\",\n",
    "        \"stanley.hudson@dundermifflin.com\",\n",
    "        \"kevin.malone@dundermifflin.com\",\n",
    "        \"angela.martin@dundermifflin.com\",\n",
    "        \"kelly.kapoor@dundermifflin.com\",\n",
    "        \"creed.bratton@dundermifflin.com\"\n",
    "    ],\n",
    "    \"phone\": [\n",
    "        \"555-123-4567\", \"555-234-5678\", \"555-345-6789\", \"555-456-7890\", \n",
    "        \"555-567-8901\", \"555-678-9012\", \"555-789-0123\", \"555-890-1234\", \n",
    "        \"555-901-2345\", \"555-012-3456\"\n",
    "    ],\n",
    "    \"salary\": [\n",
    "        75000, 65000, 45000, 60000, 55000,\n",
    "        70000, 40000, 48000, 50000, 38000\n",
    "    ],\n",
    "    \"area\": [\n",
    "        \"Scranton\", \"Pensilvenya\", \"Paris\", \"Schrute Farms\", \"New York\",\n",
    "        \"Electricity\", \"Scranton\", \"Scranton\", \"Scranton\", \"Unknown\"\n",
    "    ]\n",
    "}"
   ]
  },
  {
   "cell_type": "code",
   "execution_count": 1,
   "id": "8be4a926",
   "metadata": {},
   "outputs": [],
   "source": [
    "import pandas as pd"
   ]
  },
  {
   "cell_type": "code",
   "execution_count": 4,
   "id": "57dd9f56",
   "metadata": {},
   "outputs": [],
   "source": [
    "df=pd.DataFrame(office)"
   ]
  }
 ],
 "metadata": {
  "kernelspec": {
   "display_name": "Python 3",
   "language": "python",
   "name": "python3"
  },
  "language_info": {
   "codemirror_mode": {
    "name": "ipython",
    "version": 3
   },
   "file_extension": ".py",
   "mimetype": "text/x-python",
   "name": "python",
   "nbconvert_exporter": "python",
   "pygments_lexer": "ipython3",
   "version": "3.12.3"
  }
 },
 "nbformat": 4,
 "nbformat_minor": 5
}
