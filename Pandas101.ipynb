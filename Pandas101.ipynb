{
 "cells": [
  {
   "cell_type": "code",
   "execution_count": null,
   "id": "4738d569",
   "metadata": {},
   "outputs": [],
   "source": [
    "import pandas as pd"
   ]
  },
  {
   "cell_type": "code",
   "execution_count": null,
   "id": "330b8630",
   "metadata": {},
   "outputs": [],
   "source": [
    "df=pd.read_csv(\"Banglore_traffic_Dataset.csv\")"
   ]
  },
  {
   "cell_type": "code",
   "execution_count": null,
   "id": "11703ff4",
   "metadata": {},
   "outputs": [],
   "source": [
    "df.Date"
   ]
  },
  {
   "cell_type": "code",
   "execution_count": null,
   "id": "5ec2a9fe",
   "metadata": {},
   "outputs": [],
   "source": [
    "fd=pd.DataFrame(df)"
   ]
  },
  {
   "cell_type": "code",
   "execution_count": null,
   "id": "7fa6c5ed",
   "metadata": {},
   "outputs": [],
   "source": [
    "fd['Date']"
   ]
  },
  {
   "cell_type": "code",
   "execution_count": null,
   "id": "59b33910",
   "metadata": {},
   "outputs": [],
   "source": [
    "df.info()"
   ]
  },
  {
   "cell_type": "code",
   "execution_count": null,
   "id": "b158be01",
   "metadata": {},
   "outputs": [],
   "source": [
    "df"
   ]
  },
  {
   "cell_type": "code",
   "execution_count": null,
   "id": "821332e0",
   "metadata": {},
   "outputs": [],
   "source": [
    "df.shape"
   ]
  },
  {
   "cell_type": "code",
   "execution_count": null,
   "id": "e89c61f5",
   "metadata": {},
   "outputs": [],
   "source": [
    "pd.set_option('display.max_columns',20)"
   ]
  },
  {
   "cell_type": "code",
   "execution_count": null,
   "id": "9e5c7639",
   "metadata": {},
   "outputs": [],
   "source": [
    "pd.set_option('display.max_rows',20)"
   ]
  },
  {
   "cell_type": "code",
   "execution_count": null,
   "id": "b726c997",
   "metadata": {},
   "outputs": [],
   "source": [
    "df"
   ]
  },
  {
   "cell_type": "code",
   "execution_count": null,
   "id": "2fa77053",
   "metadata": {},
   "outputs": [],
   "source": [
    "schema_f=pd.read_csv(\"Banglore_traffic_Dataset.csv\")"
   ]
  },
  {
   "cell_type": "code",
   "execution_count": null,
   "id": "99a5642d",
   "metadata": {},
   "outputs": [],
   "source": [
    "schema_f\n",
    "\n",
    "\n",
    "schema_f.dtypes\n",
    "\n",
    "df.head()\n",
    "\n",
    "\n",
    "df.tail()"
   ]
  }
 ],
 "metadata": {
  "kernelspec": {
   "display_name": "Python 3 (ipykernel)",
   "language": "python",
   "name": "python3"
  },
  "language_info": {
   "codemirror_mode": {
    "name": "ipython",
    "version": 3
   },
   "file_extension": ".py",
   "mimetype": "text/x-python",
   "name": "python",
   "nbconvert_exporter": "python",
   "pygments_lexer": "ipython3",
   "version": "3.12.3"
  }
 },
 "nbformat": 4,
 "nbformat_minor": 5
}
